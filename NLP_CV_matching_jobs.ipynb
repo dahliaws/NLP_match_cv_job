{
 "cells": [
  {
   "cell_type": "markdown",
   "metadata": {},
   "source": [
    "## Matching jobs titles to resumes\n",
    "The challenges in this mini project:<br>\n",
    "1. The resumes and the jobs were in two different file types.\n",
    "2. They had to be loaded into the jupyter NB using different methods. \n",
    "3. Both were loaded into dictionaries\n",
    "4. They were converted to dataframes and cleaned.\n",
    "5. Words were vectorized and then compared using consine similarity.\n",
    "\n",
    "## Clustering key words from resumes\n",
    "1. The resume dataframe, from the Matching section, was reused for the clustering section.\n",
    "2. Normalizing the 'words' column of the resume_df (further cleaning).\n",
    "3. Finding optimal clusters using K-means clustering.\n",
    "4. Clusters were plotted on PCA plot and TSNE plot.\n",
    "5. Words clusters were listed. \n",
    "\n",
    "<br>Final thoughts: <br>\n",
    "The concluding word groups seemed logical. However, this was a small data set. <br> The positions_df was a larger data set. Therefor, clustering key words was redone with the job descriptions.\n",
    "\n",
    "## Clustering key words from job descriptions.\n",
    "As expected, the much larger dataset gave way to better results.<br>\n",
    "It was easier to determine the optimal cluster number for K-means.  <br>\n",
    "PCA and TSNE graphs showed better defined separation of groups. <br>\n"
   ]
  },
  {
   "cell_type": "code",
   "execution_count": 36,
   "metadata": {},
   "outputs": [],
   "source": [
    "import pandas as pd\n",
    "import numpy as np\n",
    "\n",
    "import nltk\n",
    "from nltk.tokenize import word_tokenize\n",
    "from nltk.corpus import stopwords\n",
    "\n",
    "import glob\n",
    "import docx2txt\n",
    "import pickle\n",
    "import re\n",
    "import os\n",
    "\n",
    "import matplotlib.pyplot as plt\n",
    "import matplotlib.cm as cm\n",
    "\n",
    "from sklearn.cluster import MiniBatchKMeans\n",
    "from sklearn.feature_extraction.text import TfidfVectorizer\n",
    "from sklearn.decomposition import PCA\n",
    "from sklearn.manifold import TSNE"
   ]
  },
  {
   "cell_type": "code",
   "execution_count": 2,
   "metadata": {},
   "outputs": [],
   "source": [
    "# Load job descriptions and resumes into pandas dictionary\n",
    "resume = {}\n",
    "for file in glob.glob(\"/Users/dahliashamir/Documents/GitHub/NLP_project/CVs/*.docx\"):\n",
    "    resume[file.split('.')[0]] = docx2txt.process(file)\n"
   ]
  },
  {
   "cell_type": "code",
   "execution_count": 7,
   "metadata": {},
   "outputs": [],
   "source": [
    "resume_new = {}\n",
    "for key in resume:\n",
    "    key.replace(key, key.title())\n",
    "    new_key = key.lstrip('/Users/dahliashamir/Documents/GitHub/NLP_project/')\n",
    "    resume[new_key] = resume.pop(key)"
   ]
  },
  {
   "cell_type": "code",
   "execution_count": 8,
   "metadata": {},
   "outputs": [
    {
     "data": {
      "text/plain": [
       "dict_keys(['CVs/Hair-stylist-resume-sample-MSWord-Download', 'CVs/Music-Resume-Sample-MSWord-Download', 'CVs/School-Bus-Driver-Resume-Sample-MSWord-Download', 'CVs/Housekeeping-Resume-Sample-MSWord-Download', 'CVs/combination-janitor-resume-sample-MSWord-download', 'CVs/Construction-Labor-Resume-Sample-MSWord-Download', 'CVs/Sales-Associate-Resume-Sample-MSWord-Download (1)', 'CVs/Truck-Driver-Resume-Sample-MSWord-Download', 'CVs/Flight-Attendant-Resume-MSWord-Download', 'CVs/Bank-Teller-Resume-Sample-MSWord-Download', 'CVs/Bookkeeper-Resume-Sample-MSWord-Download', 'CVs/CDL-Driver-Resume-Sample-Download', 'CVs/Delivery-Driver-Resume-Sample-MSWord-Download', 'CVs/Elementary-Teacher-Resume-Sample-MSWord-Download', 'CVs/Makeup-Artist-Resume-Sample-MSWord-Download', 'CVs/Retail-Manager-Resume-Sample-MSWord-Download', 'CVs/Software-Engineer-Resume-Sample-MSWord-Download', 'CVs/Maintenance-Worker-Resume-Sample-MSWord-Download', 'CVs/Nanny-Resume-Sample-MSWord-Download', 'CVs/Sales-Associate-Resume-Sample-MSWord-Download', 'CVs/Warehouse-Worker-Resume-Sample-MSWord-Download', 'CVs/Acting-Resume-Sample-Download-MSWord', 'CVs/Graphic-Designer-Resume-Sample-MSWord-Download', 'CVs/Business-Analyst-Resume-Example-MSWord-Download', 'CVs/Electrician-Resume-Sample-MSWord-Download', 'CVs/Accounting-Resume-Sample-MSWord-Download', 'CVs/Customer-Service-Representative-Resume-Sample-MSWord-Download', 'CVs/hospitality-hotel-front-desk-resume-sample-MSWord-download', 'CVs/Data-Analyst-Resume-Example-MSWord-Download', 'CVs/English-Tutor-Resume-Sample-MSWord-Download', 'CVs/Shipping-and-Receiving-Clerk-Resume-Sample-MSWord-Download', 'CVs/Experienced_Full-Stack_Developer'])"
      ]
     },
     "execution_count": 8,
     "metadata": {},
     "output_type": "execute_result"
    }
   ],
   "source": [
    "resume.keys()"
   ]
  },
  {
   "cell_type": "code",
   "execution_count": 11,
   "metadata": {},
   "outputs": [
    {
     "data": {
      "text/html": [
       "<div>\n",
       "<style scoped>\n",
       "    .dataframe tbody tr th:only-of-type {\n",
       "        vertical-align: middle;\n",
       "    }\n",
       "\n",
       "    .dataframe tbody tr th {\n",
       "        vertical-align: top;\n",
       "    }\n",
       "\n",
       "    .dataframe thead th {\n",
       "        text-align: right;\n",
       "    }\n",
       "</style>\n",
       "<table border=\"1\" class=\"dataframe\">\n",
       "  <thead>\n",
       "    <tr style=\"text-align: right;\">\n",
       "      <th></th>\n",
       "      <th>doc_names</th>\n",
       "      <th>words</th>\n",
       "    </tr>\n",
       "  </thead>\n",
       "  <tbody>\n",
       "    <tr>\n",
       "      <th>0</th>\n",
       "      <td>cvs/hair stylist resume sample msword download</td>\n",
       "      <td>hair stylist resume sample(843) 354-2125 | jes...</td>\n",
       "    </tr>\n",
       "    <tr>\n",
       "      <th>1</th>\n",
       "      <td>cvs/music resume sample msword download</td>\n",
       "      <td>music resume samplemusic@gmail.com | 123 your ...</td>\n",
       "    </tr>\n",
       "  </tbody>\n",
       "</table>\n",
       "</div>"
      ],
      "text/plain": [
       "                                        doc_names  \\\n",
       "0  cvs/hair stylist resume sample msword download   \n",
       "1         cvs/music resume sample msword download   \n",
       "\n",
       "                                               words  \n",
       "0  hair stylist resume sample(843) 354-2125 | jes...  \n",
       "1  music resume samplemusic@gmail.com | 123 your ...  "
      ]
     },
     "execution_count": 11,
     "metadata": {},
     "output_type": "execute_result"
    }
   ],
   "source": [
    "#clean resume dictionary and prepare for resume dataframe\n",
    "stop_words = set(stopwords.words('english'))\n",
    "\n",
    "def resume_dict_to_df(text):\n",
    "    # make lower case\n",
    "    low_case = {key: value.lower() for (key, value) in text.items()}\n",
    "    low_case_key = dict((k.lower(), v) for k, v in low_case.items()) \n",
    "    # remove underscore\n",
    "    no_underscore_resume = {key: value.replace('__', ' ') for (key, value) in low_case_key.items()}\n",
    "    # remove white spaces\n",
    "    no_wspace_resume = {key: value.replace(\"   \", \"\") for (key, value) in no_underscore_resume.items()}\n",
    "    # remove \\n from values\n",
    "    nresume = {key: value.replace(\"\\n\", \"\") for (key, value) in no_wspace_resume.items()}\n",
    "    #dashes_in_key\n",
    "    final_resume = {key.replace(\"-\", \" \"): value for (key, value) in nresume.items()}\n",
    "    resume_df = pd.DataFrame(final_resume, index=[0]).T\n",
    "    resume_df.reset_index(inplace = True)\n",
    "    resume_df.rename(columns = {'index':'doc_names', 0: 'words'}, inplace = True)\n",
    "    return resume_df\n",
    "\n",
    "resume_df = resume_dict_to_df(resume)\n",
    "resume_df.head(2)\n"
   ]
  },
  {
   "cell_type": "code",
   "execution_count": 12,
   "metadata": {},
   "outputs": [],
   "source": [
    "# Uploading pickle files to dictionary.\n",
    "directory = '/Users/dahliashamir/Documents/GitHub/NLP_project/positions'\n",
    "os.chdir(directory)\n",
    "# Create empty dictionary to save data\n",
    "pos_dict = {}\n",
    "\n",
    "# Loop over files and read pickles\n",
    "for file in os.listdir(directory):\n",
    "    if file.endswith('.pkl') :\n",
    "        with open(file, 'rb') as f:\n",
    "            pos_dict[file.split('.')[0]] = pickle.load(f)"
   ]
  },
  {
   "cell_type": "code",
   "execution_count": 13,
   "metadata": {},
   "outputs": [],
   "source": [
    "#pos_dict had many unnecessary detail. This was simplified to job_kw dictionary (one key and one value).\n",
    "job_kw = {}\n",
    "for v in pos_dict.values():\n",
    "    job_kw.update({v['title'] : v['basic_qualifications']})\n",
    "    \n",
    "#print(job_kw['Senior UX Designer, AWS Honeycode'])"
   ]
  },
  {
   "cell_type": "code",
   "execution_count": 14,
   "metadata": {},
   "outputs": [],
   "source": [
    "# Convert resume dict to resume df\n",
    "def postion_dict_to_df(job_kw):\n",
    "    positions_df = pd.DataFrame(job_kw, index=[0]).T\n",
    "    positions_df.reset_index(inplace = True)\n",
    "    #positions_df.columns\n",
    "    positions_df.rename(columns = {'index':'job_title', 0: 'job_description'}, inplace = True)\n",
    "    return positions_df\n",
    "\n",
    "positions_df = postion_dict_to_df(job_kw)"
   ]
  },
  {
   "cell_type": "code",
   "execution_count": 15,
   "metadata": {},
   "outputs": [],
   "source": [
    "# Clean job descriptions and resumes by removing punctuation, stop words, and converting all text to lowercase.\n",
    "stop_words = set(stopwords.words('english'))\n",
    "\n",
    "def clean_text(text):\n",
    "    text = text.lower()\n",
    "    text = ''.join([word for word in text if word.isalnum() or word.isspace()])\n",
    "    tokens = word_tokenize(text)\n",
    "    text = [word for word in tokens if word not in stop_words]\n",
    "    return ' '.join(text)\n",
    "\n",
    "positions_df['clean_description'] = positions_df['job_description'].apply(lambda x: clean_text(x))\n",
    "resume_df['clean_resume'] = resume_df['words'].apply(lambda x: clean_text(x))"
   ]
  },
  {
   "cell_type": "code",
   "execution_count": 16,
   "metadata": {},
   "outputs": [
    {
     "name": "stdout",
     "output_type": "stream",
     "text": [
      "Resume 0 matches with job 'Principal Business Development Lead – Greenfield GTM Strategy'\n",
      "Resume 1 matches with job 'Global Latin Music Programmer, Music Industry'\n",
      "Resume 2 matches with job 'Amazon Fresh Overnight Grocery Associate - Woodland Hills, Ca'\n",
      "Resume 3 matches with job 'AWS Communications Leader '\n",
      "Resume 4 matches with job 'Data Center Construction Manager (New Zealand), Data Center Planning & Delivery'\n",
      "Resume 5 matches with job 'Data Center Construction Manager (New Zealand), Data Center Planning & Delivery'\n",
      "Resume 6 matches with job 'Principal Business Development Lead – Greenfield GTM Strategy'\n",
      "Resume 7 matches with job 'IT Support Associate II, OpsTechIT'\n",
      "Resume 8 matches with job 'Onsite Medical Representative, WHS'\n",
      "Resume 9 matches with job 'Cloud Support Eng. I (DEP)'\n",
      "Resume 10 matches with job 'Principal IT App Analyst- Management Financial, AWS Fintech'\n",
      "Resume 11 matches with job 'Carrier Manager'\n",
      "Resume 12 matches with job 'SDE II (Embedded Firmware) Amazon Glow, Amazon Glow'\n",
      "Resume 13 matches with job 'Principal Research Scientist, Modeling and Optimization'\n",
      "Resume 14 matches with job 'MGR, Quality Engineering Manager, Devices Lab126 Quality'\n",
      "Resume 15 matches with job 'Principal Business Development Lead – Greenfield GTM Strategy'\n",
      "Resume 16 matches with job 'Software Dev Eng – Test (L5), Amazon GuardDuty'\n",
      "Resume 17 matches with job 'Production Facilities Manager '\n",
      "Resume 18 matches with job 'Virtual Customer Care Advisor, Virtual Customer Care - Amazon Pharmacy'\n",
      "Resume 19 matches with job 'Principal Business Development Lead – Greenfield GTM Strategy'\n",
      "Resume 20 matches with job 'Warehouse Specialist, Failure Analysis'\n",
      "Resume 21 matches with job 'Sr.Ontologist'\n",
      "Resume 22 matches with job 'EE Lead CTA'\n",
      "Resume 23 matches with job 'Consumer Insights Manager, Payments Brand & Insights'\n",
      "Resume 24 matches with job 'Hardware Development Manager, AWS Server Engineering'\n",
      "Resume 25 matches with job 'Tax Manager, Prime Video, Digital Tax '\n",
      "Resume 26 matches with job 'Cloud Support Eng. I (DEP)'\n",
      "Resume 27 matches with job 'Partner Funding PM, AWS Partner Scalable GTM Migration & Funding Programs'\n",
      "Resume 28 matches with job 'Business Intel Engineer'\n",
      "Resume 29 matches with job 'Principal Research Scientist, Modeling and Optimization'\n",
      "Resume 30 matches with job 'Warehouse Specialist, Failure Analysis'\n",
      "Resume 31 matches with job 'Principal Solution Architect (SA), Application Modernization Lab, Application Modernization Lab'\n",
      "0     hair stylist resume sample843 3542125 jessicaw...\n",
      "1     music resume samplemusicgmailcom 123 address t...\n",
      "2     school bus driver resume sample742 evergreen t...\n",
      "3     housekeeping resume sample3378 kelley avenue n...\n",
      "4     janitor resume combination242 santa monica blv...\n",
      "5     construction labor resume sample1010 south str...\n",
      "6     sales associate resumexxxxxxxxxx youremailcom ...\n",
      "7     truck driver resume sample1632 east street bos...\n",
      "8     flight attendant resume sample4155452187 youre...\n",
      "9     123 address city state zip codexxxxxxxxxx your...\n",
      "10    bookkeeper resume sample123 address city state...\n",
      "11    cdl driver resume samplexxx xxxxxxx youremailc...\n",
      "12    delivery driver resume sample242 santa monica ...\n",
      "13    elementary teacher sample resumexxxxxxxxxx you...\n",
      "14    makeup artist resume samplexxxxxxxxxx youremai...\n",
      "15    retail manager resume sample242 santa monica b...\n",
      "16    software engineer resume sample1632 east stree...\n",
      "17    maintenance worker resume sample1156 illustrio...\n",
      "18    nanny resume samplexxxxxxxxxx youremailcom 123...\n",
      "19    sales associate resumexxxxxxxxxx youremailcom ...\n",
      "20    warehouse worker resume sample1753 south lane ...\n",
      "21    acting resume sample298 west 44th street new y...\n",
      "22    graphic designer resume samplexxxxxxxxxx youre...\n",
      "23    business analyst resume samplexxxxxxxxxx youre...\n",
      "24    electrician resume123 address city state zip c...\n",
      "25    accounting resume sample6254 south street new ...\n",
      "26    customer service resume 2498 rocky ridge dr ro...\n",
      "27    hospitality hotel front desk resume sample1400...\n",
      "28    data analyst resume samplexxxxxxxxxx youremail...\n",
      "29    english tutor resume sample1379 mulberry lane ...\n",
      "30    shipping receiving clerk resume123 address cit...\n",
      "31    experienced fullstack developerpython c sqlkir...\n",
      "Name: clean_resume, dtype: object\n"
     ]
    }
   ],
   "source": [
    "# Match job descriptions to resumes using cosine similarity\n",
    "from sklearn.feature_extraction.text import TfidfVectorizer\n",
    "from sklearn.metrics.pairwise import cosine_similarity\n",
    "\n",
    "tfidf_vectorizer = TfidfVectorizer()\n",
    "tfidf_jobs = tfidf_vectorizer.fit_transform(positions_df['clean_description'])\n",
    "tfidf_resumes = tfidf_vectorizer.transform(resume_df['clean_resume'])\n",
    "\n",
    "matches = []\n",
    "for i, resume in enumerate(tfidf_resumes):\n",
    "    similarities = cosine_similarity(resume, tfidf_jobs)[0]\n",
    "    job_index = similarities.argmax()\n",
    "    job_title = positions_df.iloc[job_index]['job_title']\n",
    "    matches.append({'resume_index': i, 'job_title': job_title})\n",
    "\n",
    "# Print the matches\n",
    "for match in matches:\n",
    "    print(f\"Resume {match['resume_index']} matches with job '{match['job_title']}'\")\n",
    "print(resume_df['clean_resume'])"
   ]
  },
  {
   "cell_type": "markdown",
   "metadata": {},
   "source": [
    "## Clustering the CVs"
   ]
  },
  {
   "cell_type": "markdown",
   "metadata": {},
   "source": [
    "### 1. resume_df, which was converted from resume dict will be used. "
   ]
  },
  {
   "cell_type": "markdown",
   "metadata": {},
   "source": [
    "### 2. Normalize Data in words column <br>\n",
    "https://www.geeksforgeeks.org/normalizing-textual-data-with-python/ <br>\n",
    "- make all letters lower case <br>\n",
    "- remove all non-essensial numbers <br>\n",
    "- remove punctuation marks <br>\n",
    "- remove stop words "
   ]
  },
  {
   "cell_type": "code",
   "execution_count": 62,
   "metadata": {},
   "outputs": [
    {
     "data": {
      "text/plain": [
       "0    hair stylist resume sample   jessicawoodleygma...\n",
       "1    music resume samplemusicgmailcom   your addres...\n",
       "2    school bus driver resume sample evergreen terr...\n",
       "3    housekeeping resume sample kelley avenue new o...\n",
       "4    janitor resume combination santa monica blvd l...\n",
       "Name: words, dtype: object"
      ]
     },
     "execution_count": 62,
     "metadata": {},
     "output_type": "execute_result"
    }
   ],
   "source": [
    "# make lower case\n",
    "resume_df['words'] = resume_df['words'].str.lower()\n",
    "\n",
    "# remove numbers\n",
    "resume_df['words'] = [re.sub(r'\\d+','', str(x)) for x in resume_df['words']]\n",
    "\n",
    "# remove punctuation marks\n",
    "resume_df['words'] = [re.sub(r'[^\\w\\s]', '', str(x)) for x in resume_df['words']]\n",
    "\n",
    "# remove underscore\n",
    "resume_df['words'] = resume_df['words'].str.replace('__', ' ')\n",
    "\n",
    "# remove \\n from values\n",
    "resume_df['words'] = resume_df['words'].str.replace(\"\\n\", \"\")\n",
    "\n",
    "# remove xxx from values\n",
    "resume_df['words'] = resume_df['words'].str.replace(\"xxx\", \"\")\n",
    "\n",
    "# remove white spaces\n",
    "resume_df['words'] = resume_df['words'].str.strip()\n",
    "\n",
    "resume_df.words.head()"
   ]
  },
  {
   "cell_type": "markdown",
   "metadata": {},
   "source": [
    "### 3. Extracting Keywords \n",
    "The TfidfVectorizer was used with the hopes that the IDF score will found some unique words that can be used in the clustering."
   ]
  },
  {
   "cell_type": "code",
   "execution_count": 63,
   "metadata": {},
   "outputs": [],
   "source": [
    "tfidf = TfidfVectorizer(\n",
    "    min_df = 5,\n",
    "    max_df = 0.95,\n",
    "    max_features = 2000,\n",
    "    stop_words = 'english'\n",
    ")\n",
    "tfidf.fit(resume_df.words)\n",
    "text = tfidf.transform(resume_df.words)"
   ]
  },
  {
   "cell_type": "markdown",
   "metadata": {},
   "source": [
    "### 4. Finding Optimal Number of Clusters to use.\n",
    "https://towardsdatascience.com/deep-learning-for-semantic-text-matching-d4df6c2cf4c5 <br>\n",
    "This section used K-means clustering to cluster the CVs. This type of ML is unsupervised. For K-means we must specify the cluster amount. This plot wasn't too helpful but since there was a small bump around 8 clusters I decided to go with that cluster amount. \n"
   ]
  },
  {
   "cell_type": "code",
   "execution_count": 64,
   "metadata": {},
   "outputs": [
    {
     "name": "stdout",
     "output_type": "stream",
     "text": [
      "Fit 2 clusters\n",
      "Fit 4 clusters\n",
      "Fit 6 clusters\n",
      "Fit 8 clusters\n",
      "Fit 10 clusters\n",
      "Fit 12 clusters\n"
     ]
    },
    {
     "data": {
      "image/png": "[encoded data removed]",
      "text/plain": [
       "<Figure size 432x288 with 1 Axes>"
      ]
     },
     "metadata": {
      "needs_background": "light"
     },
     "output_type": "display_data"
    }
   ],
   "source": [
    "def find_optimal_clusters(resume_df, max_k):\n",
    "    iters = range(2, max_k+1, 2)\n",
    "    \n",
    "    sse = []\n",
    "    for k in iters:\n",
    "        sse.append(MiniBatchKMeans(n_clusters=k, init_size=1024, batch_size=2048, \n",
    "                                   random_state=20).fit(resume_df).inertia_)\n",
    "        print('Fit {} clusters'.format(k))\n",
    "        \n",
    "    f, ax = plt.subplots(1, 1)\n",
    "    ax.plot(iters, sse, marker='o')\n",
    "    ax.set_xlabel('Cluster Centers')\n",
    "    ax.set_xticks(iters)\n",
    "    ax.set_xticklabels(iters)\n",
    "    ax.set_ylabel('SSE')\n",
    "    ax.set_title('SSE by Cluster Center Plot')\n",
    "    \n",
    "find_optimal_clusters(text, 12)"
   ]
  },
  {
   "cell_type": "markdown",
   "metadata": {},
   "source": [
    "### Plotting the clusters:\n",
    "Two plots were made: PCA and TSNE. Neither one showed great separation but PCA was a bit better."
   ]
  },
  {
   "cell_type": "code",
   "execution_count": 65,
   "metadata": {},
   "outputs": [],
   "source": [
    "clusters = MiniBatchKMeans(n_clusters=8, init_size=1024, batch_size=2048, random_state=20).fit_predict(text)"
   ]
  },
  {
   "cell_type": "code",
   "execution_count": 66,
   "metadata": {},
   "outputs": [
    {
     "data": {
      "image/png": "[encoded data removed]",
      "text/plain": [
       "<Figure size 1008x432 with 2 Axes>"
      ]
     },
     "metadata": {
      "needs_background": "light"
     },
     "output_type": "display_data"
    }
   ],
   "source": [
    "def plot_tsne_pca(resume_df, labels):\n",
    "    max_label = max(labels)\n",
    "    max_items = np.random.choice(range(resume_df.shape[0]), size=3000)\n",
    "    \n",
    "    pca = PCA(n_components=2).fit_transform(resume_df[max_items,:].todense())\n",
    "    tsne = TSNE().fit_transform(PCA(n_components=10).fit_transform(resume_df[max_items,:].todense()))\n",
    "    \n",
    "    \n",
    "    idx = np.random.choice(range(pca.shape[0]), size=300, replace=False)\n",
    "    label_subset = labels[max_items]\n",
    "    label_subset = [cm.hsv(i/max_label) for i in label_subset[idx]]\n",
    "    \n",
    "    f, ax = plt.subplots(1, 2, figsize=(14, 6))\n",
    "    \n",
    "    ax[0].scatter(pca[idx, 0], pca[idx, 1], c=label_subset)\n",
    "    ax[0].set_title('PCA Cluster Plot')\n",
    "    \n",
    "    ax[1].scatter(tsne[idx, 0], tsne[idx, 1], c=label_subset)\n",
    "    ax[1].set_title('TSNE Cluster Plot')\n",
    "    \n",
    "plot_tsne_pca(text, clusters)"
   ]
  },
  {
   "cell_type": "markdown",
   "metadata": {},
   "source": [
    "### Conclusions: finding the best keywords for each cluster.\n",
    "This data set was relatively small however clusters seem mostly logical. "
   ]
  },
  {
   "cell_type": "code",
   "execution_count": 67,
   "metadata": {},
   "outputs": [
    {
     "name": "stdout",
     "output_type": "stream",
     "text": [
      "\n",
      "Cluster 0\n",
      "august, skills, quality, ca, including, duties, maintenance, safety, repair, equipment\n",
      "\n",
      "Cluster 1\n",
      "service, boston, september, quality, team, goals, store, ma, customers, sales\n",
      "\n",
      "Cluster 2\n",
      "september, management, education, west, th, software, arts, school, english, testing\n",
      "\n",
      "Cluster 3\n",
      "equipment, service, record, work, information, maintaining, maintenance, degree, daily, inventory\n",
      "\n",
      "Cluster 4\n",
      "th, west, additional, suite, ca, street, new, clients, ny, york\n",
      "\n",
      "Cluster 5\n",
      "administration, routes, experience, clients, management, arts, customers, ca, service, customer\n",
      "\n",
      "Cluster 6\n",
      "time, mechanical, chicago, routes, safety, commercial, license, class, school, drivers\n",
      "\n",
      "Cluster 7\n",
      "management, city, experience, certified, processes, gpa, annual, business, university, state\n"
     ]
    }
   ],
   "source": [
    "def best_keywords(resume_df, clusters, labels, n_terms):\n",
    "    df = pd.DataFrame(resume_df.todense()).groupby(clusters).mean()\n",
    "    \n",
    "    for i,r in df.iterrows():\n",
    "        print('\\nCluster {}'.format(i))\n",
    "        print(', '.join([labels[t] for t in np.argsort(r)[-n_terms:]]))\n",
    "            \n",
    "best_keywords(text, clusters, tfidf.get_feature_names(), 10)"
   ]
  },
  {
   "cell_type": "markdown",
   "metadata": {},
   "source": [
    "## Clustering the Jobs\n",
    "use clean_description column from positions_df <br>\n",
    "Data looks normalized so we proceed to the vectorization of the words."
   ]
  },
  {
   "cell_type": "code",
   "execution_count": 133,
   "metadata": {},
   "outputs": [
    {
     "data": {
      "text/html": [
       "<div>\n",
       "<style scoped>\n",
       "    .dataframe tbody tr th:only-of-type {\n",
       "        vertical-align: middle;\n",
       "    }\n",
       "\n",
       "    .dataframe tbody tr th {\n",
       "        vertical-align: top;\n",
       "    }\n",
       "\n",
       "    .dataframe thead th {\n",
       "        text-align: right;\n",
       "    }\n",
       "</style>\n",
       "<table border=\"1\" class=\"dataframe\">\n",
       "  <thead>\n",
       "    <tr style=\"text-align: right;\">\n",
       "      <th></th>\n",
       "      <th>job_title</th>\n",
       "      <th>job_description</th>\n",
       "      <th>clean_description</th>\n",
       "    </tr>\n",
       "  </thead>\n",
       "  <tbody>\n",
       "    <tr>\n",
       "      <th>0</th>\n",
       "      <td>Senior UX Designer, AWS Honeycode</td>\n",
       "      <td>* Must have an online portfolio that demonstra...</td>\n",
       "      <td>must online portfolio demonstrates ux usercent...</td>\n",
       "    </tr>\n",
       "    <tr>\n",
       "      <th>1</th>\n",
       "      <td>Sr. Program Manager, Amazon Home Services</td>\n",
       "      <td>&lt;ul&gt;&lt;li&gt;5+ years of experience in program or p...</td>\n",
       "      <td>5 years experience program project management...</td>\n",
       "    </tr>\n",
       "    <tr>\n",
       "      <th>2</th>\n",
       "      <td>Accounting Manager - Global Financial Accounti...</td>\n",
       "      <td>&lt;ul&gt;&lt;li&gt;8+ years of finance experience or a re...</td>\n",
       "      <td>8 years finance experience related analytical...</td>\n",
       "    </tr>\n",
       "    <tr>\n",
       "      <th>3</th>\n",
       "      <td>Operations Lead</td>\n",
       "      <td>A graduate with 1-3 yrs of experience in a cus...</td>\n",
       "      <td>graduate 13 yrs experience customer facing env...</td>\n",
       "    </tr>\n",
       "    <tr>\n",
       "      <th>4</th>\n",
       "      <td>Amazon Fresh Overnight Grocery Associate - Woo...</td>\n",
       "      <td>&lt;ul&gt;&lt;li&gt;High school or equivalent diploma&lt;/li&gt;...</td>\n",
       "      <td>high school equivalent diploma</td>\n",
       "    </tr>\n",
       "  </tbody>\n",
       "</table>\n",
       "</div>"
      ],
      "text/plain": [
       "                                           job_title  \\\n",
       "0                  Senior UX Designer, AWS Honeycode   \n",
       "1          Sr. Program Manager, Amazon Home Services   \n",
       "2  Accounting Manager - Global Financial Accounti...   \n",
       "3                                   Operations Lead    \n",
       "4  Amazon Fresh Overnight Grocery Associate - Woo...   \n",
       "\n",
       "                                     job_description  \\\n",
       "0  * Must have an online portfolio that demonstra...   \n",
       "1  <ul><li>5+ years of experience in program or p...   \n",
       "2  <ul><li>8+ years of finance experience or a re...   \n",
       "3  A graduate with 1-3 yrs of experience in a cus...   \n",
       "4  <ul><li>High school or equivalent diploma</li>...   \n",
       "\n",
       "                                   clean_description  \n",
       "0  must online portfolio demonstrates ux usercent...  \n",
       "1   5 years experience program project management...  \n",
       "2   8 years finance experience related analytical...  \n",
       "3  graduate 13 yrs experience customer facing env...  \n",
       "4                    high school equivalent diploma   "
      ]
     },
     "execution_count": 133,
     "metadata": {},
     "output_type": "execute_result"
    }
   ],
   "source": [
    "positions_df.head()"
   ]
  },
  {
   "cell_type": "markdown",
   "metadata": {},
   "source": [
    "### The results were imporved by cleaning the clean_description column of the positions_df from nonsense words."
   ]
  },
  {
   "cell_type": "code",
   "execution_count": 93,
   "metadata": {},
   "outputs": [
    {
     "data": {
      "text/html": [
       "<div>\n",
       "<style scoped>\n",
       "    .dataframe tbody tr th:only-of-type {\n",
       "        vertical-align: middle;\n",
       "    }\n",
       "\n",
       "    .dataframe tbody tr th {\n",
       "        vertical-align: top;\n",
       "    }\n",
       "\n",
       "    .dataframe thead th {\n",
       "        text-align: right;\n",
       "    }\n",
       "</style>\n",
       "<table border=\"1\" class=\"dataframe\">\n",
       "  <thead>\n",
       "    <tr style=\"text-align: right;\">\n",
       "      <th></th>\n",
       "      <th>job_title</th>\n",
       "      <th>job_description</th>\n",
       "      <th>clean_description</th>\n",
       "    </tr>\n",
       "  </thead>\n",
       "  <tbody>\n",
       "    <tr>\n",
       "      <th>0</th>\n",
       "      <td>Senior UX Designer, AWS Honeycode</td>\n",
       "      <td>* Must have an online portfolio that demonstra...</td>\n",
       "      <td>must online portfolio demonstrates ux usercent...</td>\n",
       "    </tr>\n",
       "    <tr>\n",
       "      <th>1</th>\n",
       "      <td>Sr. Program Manager, Amazon Home Services</td>\n",
       "      <td>&lt;ul&gt;&lt;li&gt;5+ years of experience in program or p...</td>\n",
       "      <td>5 years experience program project management...</td>\n",
       "    </tr>\n",
       "    <tr>\n",
       "      <th>2</th>\n",
       "      <td>Accounting Manager - Global Financial Accounti...</td>\n",
       "      <td>&lt;ul&gt;&lt;li&gt;8+ years of finance experience or a re...</td>\n",
       "      <td>8 years finance experience related analytical...</td>\n",
       "    </tr>\n",
       "    <tr>\n",
       "      <th>3</th>\n",
       "      <td>Operations Lead</td>\n",
       "      <td>A graduate with 1-3 yrs of experience in a cus...</td>\n",
       "      <td>graduate 13 yrs experience customer facing env...</td>\n",
       "    </tr>\n",
       "    <tr>\n",
       "      <th>4</th>\n",
       "      <td>Amazon Fresh Overnight Grocery Associate - Woo...</td>\n",
       "      <td>&lt;ul&gt;&lt;li&gt;High school or equivalent diploma&lt;/li&gt;...</td>\n",
       "      <td>high school equivalent diploma</td>\n",
       "    </tr>\n",
       "  </tbody>\n",
       "</table>\n",
       "</div>"
      ],
      "text/plain": [
       "                                           job_title  \\\n",
       "0                  Senior UX Designer, AWS Honeycode   \n",
       "1          Sr. Program Manager, Amazon Home Services   \n",
       "2  Accounting Manager - Global Financial Accounti...   \n",
       "3                                   Operations Lead    \n",
       "4  Amazon Fresh Overnight Grocery Associate - Woo...   \n",
       "\n",
       "                                     job_description  \\\n",
       "0  * Must have an online portfolio that demonstra...   \n",
       "1  <ul><li>5+ years of experience in program or p...   \n",
       "2  <ul><li>8+ years of finance experience or a re...   \n",
       "3  A graduate with 1-3 yrs of experience in a cus...   \n",
       "4  <ul><li>High school or equivalent diploma</li>...   \n",
       "\n",
       "                                   clean_description  \n",
       "0  must online portfolio demonstrates ux usercent...  \n",
       "1   5 years experience program project management...  \n",
       "2   8 years finance experience related analytical...  \n",
       "3  graduate 13 yrs experience customer facing env...  \n",
       "4                    high school equivalent diploma   "
      ]
     },
     "execution_count": 93,
     "metadata": {},
     "output_type": "execute_result"
    }
   ],
   "source": [
    "# remove underscore\n",
    "positions_df['clean_description'] = positions_df['clean_description'].str.replace('ulli', ' ')\n",
    "positions_df['clean_description'] = positions_df['clean_description'].str.replace('liul', ' ')\n",
    "positions_df['clean_description'] = positions_df['clean_description'].str.replace('lili', ' ')\n",
    "positions_df.head()"
   ]
  },
  {
   "cell_type": "markdown",
   "metadata": {},
   "source": [
    "### 1. Extracting Keywords \n",
    "The TfidfVectorizer was used with the hopes that the IDF score will found some unique words that can be used in the clustering."
   ]
  },
  {
   "cell_type": "code",
   "execution_count": 94,
   "metadata": {},
   "outputs": [],
   "source": [
    "\n",
    "tfidf = TfidfVectorizer(\n",
    "    min_df = 5,\n",
    "    max_df = 0.95,\n",
    "    max_features = 2000,\n",
    "    stop_words = 'english'\n",
    ")\n",
    "tfidf.fit(positions_df.clean_description)\n",
    "job_text = tfidf.transform(positions_df.clean_description)"
   ]
  },
  {
   "cell_type": "markdown",
   "metadata": {},
   "source": [
    "### 2. Cluster number determination for Job Descriptions\n",
    "\n",
    "\n",
    "<br> Following an additional cleaning of the positions_df a new curve was formed. Different elbows were found in the cluster center plot. The best one had 4 clusters. "
   ]
  },
  {
   "cell_type": "code",
   "execution_count": 95,
   "metadata": {},
   "outputs": [
    {
     "name": "stdout",
     "output_type": "stream",
     "text": [
      "Fit 2 clusters\n",
      "Fit 4 clusters\n",
      "Fit 6 clusters\n",
      "Fit 8 clusters\n",
      "Fit 10 clusters\n",
      "Fit 12 clusters\n",
      "Fit 14 clusters\n",
      "Fit 16 clusters\n",
      "Fit 18 clusters\n",
      "Fit 20 clusters\n",
      "Fit 22 clusters\n"
     ]
    },
    {
     "data": {
      "image/png": "[encoded data removed]",
      "text/plain": [
       "<Figure size 432x288 with 1 Axes>"
      ]
     },
     "metadata": {
      "needs_background": "light"
     },
     "output_type": "display_data"
    }
   ],
   "source": [
    "def find_optimal_clusters(positions_df, max_k):\n",
    "    iters = range(2, max_k+1, 2)\n",
    "    \n",
    "    sse = []\n",
    "    for k in iters:\n",
    "        sse.append(MiniBatchKMeans(n_clusters=k, init_size=1024, batch_size=2048, \n",
    "                                   random_state=20).fit(positions_df).inertia_)\n",
    "        print('Fit {} clusters'.format(k))\n",
    "        \n",
    "    f, ax = plt.subplots(1, 1)\n",
    "    ax.plot(iters, sse, marker='o')\n",
    "    ax.set_xlabel('Cluster Centers')\n",
    "    ax.set_xticks(iters)\n",
    "    ax.set_xticklabels(iters)\n",
    "    ax.set_ylabel('SSE')\n",
    "    ax.set_title('SSE by Cluster Center Plot')\n",
    "    \n",
    "find_optimal_clusters(job_text, 22)"
   ]
  },
  {
   "cell_type": "markdown",
   "metadata": {},
   "source": [
    "### Plotting the clusters:\n",
    "Two plots were made: PCA and TSNE. "
   ]
  },
  {
   "cell_type": "code",
   "execution_count": 114,
   "metadata": {},
   "outputs": [],
   "source": [
    "clusters = MiniBatchKMeans(n_clusters=4, init_size=1024, batch_size=2048, random_state=20).fit_predict(job_text)"
   ]
  },
  {
   "cell_type": "code",
   "execution_count": 115,
   "metadata": {},
   "outputs": [
    {
     "data": {
      "image/png": "[encoded data removed]",
      "text/plain": [
       "<Figure size 1008x432 with 2 Axes>"
      ]
     },
     "metadata": {
      "needs_background": "light"
     },
     "output_type": "display_data"
    }
   ],
   "source": [
    "def plot_tsne_pca(positions_df, labels):\n",
    "    max_label = max(labels)\n",
    "    max_items = np.random.choice(range(positions_df.shape[0]), size=3000)\n",
    "    \n",
    "    pca = PCA(n_components=2).fit_transform(positions_df[max_items,:].todense())\n",
    "    tsne = TSNE().fit_transform(PCA(n_components=10).fit_transform(positions_df[max_items,:].todense()))\n",
    "    \n",
    "    \n",
    "    idx = np.random.choice(range(pca.shape[0]), size=300, replace=False)\n",
    "    label_subset = labels[max_items]\n",
    "    label_subset = [cm.hsv(i/max_label) for i in label_subset[idx]]\n",
    "    \n",
    "    f, ax = plt.subplots(1, 2, figsize=(14, 6))\n",
    "    \n",
    "    ax[0].scatter(pca[idx, 0], pca[idx, 1], c=label_subset)\n",
    "    ax[0].set_title('PCA Cluster Plot')\n",
    "    \n",
    "    ax[1].scatter(tsne[idx, 0], tsne[idx, 1], c=label_subset)\n",
    "    ax[1].set_title('TSNE Cluster Plot')\n",
    "    \n",
    "plot_tsne_pca(job_text, clusters)"
   ]
  },
  {
   "cell_type": "markdown",
   "metadata": {},
   "source": [
    "### Conclusions: finding the best keywords for each cluster using positions_df.\n",
    "Compared to the resume_df the large dataset of the positions_df was better for clustering. <br> There was a bit a noise around nonsense words. For improved results further cleaning was required.  "
   ]
  },
  {
   "cell_type": "code",
   "execution_count": 126,
   "metadata": {},
   "outputs": [
    {
     "name": "stdout",
     "output_type": "stream",
     "text": [
      "\n",
      "Cluster 0\n",
      "microsoft, word, experience, outlook, amazon, year, equivalent, high, school, diploma\n",
      "\n",
      "Cluster 1\n",
      "reliability, patterns, development, years, language, architecture, experience, design, software, programming\n",
      "\n",
      "Cluster 2\n",
      "br, data, product, program, years, skills, business, management, ability, experience\n",
      "\n",
      "Cluster 3\n",
      "technical, equivalent, related, bachelors, science, engineering, computer, degree, years, experience\n"
     ]
    }
   ],
   "source": [
    "def best_keywords(positions_df, clusters, labels, n_terms):\n",
    "    df = pd.DataFrame(positions_df.todense()).groupby(clusters).mean()\n",
    "    \n",
    "    for i,r in df.iterrows():\n",
    "        print('\\nCluster {}'.format(i))\n",
    "        print(', '.join([labels[t] for t in np.argsort(r)[-n_terms:]]))\n",
    "            \n",
    "best_keywords(job_text, clusters, tfidf.get_feature_names(), 10)"
   ]
  },
  {
   "cell_type": "markdown",
   "metadata": {},
   "source": [
    "## Clustering validation...How did we do??\n",
    "There are two validations that must take place:\n",
    "1. Internal clustering validation\n",
    "2. External clustering validation<br>\n",
    "https://medium.com/@haataa/how-to-measure-clustering-performances-when-there-are-no-ground-truth-db027e9a871c\n",
    "\n",
    "## Silhouette Score\n",
    "    "
   ]
  },
  {
   "cell_type": "code",
   "execution_count": 132,
   "metadata": {},
   "outputs": [
    {
     "name": "stdout",
     "output_type": "stream",
     "text": [
      "Silhouette score: 0.7915983870089952\n"
     ]
    }
   ],
   "source": [
    "from sklearn.datasets import make_blobs\n",
    "from sklearn.cluster import KMeans\n",
    "from sklearn.metrics import silhouette_score\n",
    "\n",
    "# generate sample data\n",
    "X, y = make_blobs(n_samples=1000, centers=4, n_features=2, random_state=42)\n",
    "\n",
    "# perform K-means clustering\n",
    "kmeans = KMeans(n_clusters=4, random_state=42)\n",
    "kmeans.fit(X)\n",
    "\n",
    "# calculate silhouette score\n",
    "silhouette = silhouette_score(X, kmeans.labels_)\n",
    "print(\"Silhouette score:\", silhouette)"
   ]
  },
  {
   "cell_type": "markdown",
   "metadata": {},
   "source": [
    "Silhouette scores are between -1,1. The higher the score the better. \n",
    "\n",
    "The cleaning improved the cluster optimization which improved the  the Silhouette score from 0.495 to 0.792"
   ]
  },
  {
   "cell_type": "markdown",
   "metadata": {},
   "source": [
    "### Calinski Harabasz Index - \n",
    "The ratio of the sum between-clusters dispersion and within-custer dispersion (or variance) for all clusters.\n",
    "<br> The higher the score the better the clustering.\n",
    "\n",
    "\n",
    "### Davies Bouldin Index - The average similarity between clusters\n",
    "It compares the distance between the clusters and the size of the clusters themselves.\n",
    "<br> The lower the values the better the clustering.\n",
    "<br><br>\n",
    "The pairwise distances is the sklearn method for calculating the distances btwn the data point and the centroids of the clusters."
   ]
  },
  {
   "cell_type": "code",
   "execution_count": 124,
   "metadata": {},
   "outputs": [],
   "source": [
    "from sklearn.metrics import pairwise_distances\n",
    "import numpy as np\n",
    "\n",
    "def calinski_harabasz(X, labels):\n",
    "    \"\"\"\n",
    "    Args:\n",
    "        X (numpy array): The data points.\n",
    "        labels (numpy array): The cluster labels for each data point.\n",
    "    Returns:\n",
    "        The Calinski-Harabasz index.\n",
    "        \n",
    "    k = # of clusters\n",
    "    B = between group dispersion\n",
    "    W = within cluster dispersion\n",
    "    \"\"\"\n",
    "    k = len(np.unique(labels))\n",
    "    mean = np.mean(X, axis=0)\n",
    "    B = 0\n",
    "    W = 0\n",
    "    for i in range(k):\n",
    "        cluster_i = X[labels == i]\n",
    "        mean_i = np.mean(cluster_i, axis=0)\n",
    "        B += len(cluster_i) * np.sum((mean_i - mean)**2)\n",
    "        W += np.sum(pairwise_distances(cluster_i, mean_i.reshape(1,-1))**2)\n",
    "    return (B/(k-1)) / (W/(len(X)-k))\n",
    "\n",
    "def davies_bouldin(X, labels):\n",
    "    \"\"\"\n",
    "    Args:\n",
    "        X (numpy array): The data points.\n",
    "        labels (numpy array): The cluster labels for each data point.\n",
    "    Returns:\n",
    "        The Davies-Bouldin index.\n",
    "    \n",
    "    k = number of clusters\n",
    "    S = the measure between each cluster\n",
    "    R = the distance between each point in the cluster\n",
    "    \"\"\"\n",
    "    k = len(np.unique(labels))\n",
    "    clusters = [X[labels == i] for i in range(k)]\n",
    "    centroids = [np.mean(cluster, axis=0) for cluster in clusters]\n",
    "    S = [np.mean(pairwise_distances(cluster, centroid.reshape(1,-1))) for cluster, centroid in zip(clusters, centroids)]\n",
    "    R = np.zeros((k,k))\n",
    "    for i in range(k):\n",
    "        for j in range(k):\n",
    "            if i != j:\n",
    "                R[i,j] = (S[i] + S[j]) / pairwise_distances(centroids[i].reshape(1,-1), centroids[j].reshape(1,-1))\n",
    "    return np.mean(np.max(R, axis=1))\n"
   ]
  },
  {
   "cell_type": "code",
   "execution_count": 125,
   "metadata": {},
   "outputs": [
    {
     "name": "stdout",
     "output_type": "stream",
     "text": [
      "Calinski-Harabasz index: 102.96750866995536\n",
      "Davies-Bouldin index: 0.7641664049854854\n"
     ]
    }
   ],
   "source": [
    "from sklearn.cluster import KMeans\n",
    "\n",
    "# generate some sample data\n",
    "X = np.random.rand(100, 2)\n",
    "\n",
    "# run k-means clustering\n",
    "kmeans = KMeans(n_clusters=4)\n",
    "labels = kmeans.fit_predict(X)\n",
    "\n",
    "# calculate the Calinski-Harabasz index and Davies-Bouldin index\n",
    "ch_index = calinski_harabasz(X, labels)\n",
    "db_index = davies_bouldin(X, labels)\n",
    "\n",
    "print(\"Calinski-Harabasz index:\", ch_index)\n",
    "print(\"Davies-Bouldin index:\", db_index)\n"
   ]
  },
  {
   "cell_type": "markdown",
   "metadata": {},
   "source": [
    "### Final conclusions:\n",
    "4 clusters was consistantly found to be the optimal cluster number for grouping or categorizing the job discriptions in the dataframe.\n",
    "https://journals.plos.org/plosone/article?id=10.1371/journal.pone.0255419"
   ]
  },
  {
   "cell_type": "code",
   "execution_count": null,
   "metadata": {},
   "outputs": [],
   "source": []
  }
 ],
 "metadata": {
  "kernelspec": {
   "display_name": "Python 3",
   "language": "python",
   "name": "python3"
  },
  "language_info": {
   "codemirror_mode": {
    "name": "ipython",
    "version": 3
   },
   "file_extension": ".py",
   "mimetype": "text/x-python",
   "name": "python",
   "nbconvert_exporter": "python",
   "pygments_lexer": "ipython3",
   "version": "3.7.7"
  }
 },
 "nbformat": 4,
 "nbformat_minor": 4
}
